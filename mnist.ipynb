{
  "nbformat": 4,
  "nbformat_minor": 0,
  "metadata": {
    "colab": {
      "provenance": []
    },
    "kernelspec": {
      "name": "python3",
      "display_name": "Python 3"
    },
    "language_info": {
      "name": "python"
    }
  },
  "cells": [
    {
      "cell_type": "code",
      "execution_count": 114,
      "metadata": {
        "id": "Pk12AQ24-5Zp"
      },
      "outputs": [],
      "source": [
        "from sklearn.datasets import fetch_openml\n",
        "from sklearn.neural_network import MLPClassifier as ANN\n",
        "import pandas as pd\n",
        "import numpy as np\n",
        "import matplotlib.pyplot as plt\n",
        "from sklearn.model_selection import train_test_split\n",
        "import seaborn as sns"
      ]
    },
    {
      "cell_type": "code",
      "source": [
        "mnist = fetch_openml('mnist_784', version=1)\n",
        "X, y = mnist.data, mnist.target\n",
        "print(X,y)"
      ],
      "metadata": {
        "colab": {
          "base_uri": "https://localhost:8080/"
        },
        "id": "laLjv-4tSRQw",
        "outputId": "31b35e4c-1672-48ce-bccc-3b2bf8f776a8"
      },
      "execution_count": 99,
      "outputs": [
        {
          "output_type": "stream",
          "name": "stderr",
          "text": [
            "/usr/local/lib/python3.10/dist-packages/sklearn/datasets/_openml.py:968: FutureWarning: The default value of `parser` will change from `'liac-arff'` to `'auto'` in 1.4. You can set `parser='auto'` to silence this warning. Therefore, an `ImportError` will be raised from 1.4 if the dataset is dense and pandas is not installed. Note that the pandas parser may return different data types. See the Notes Section in fetch_openml's API doc for details.\n",
            "  warn(\n"
          ]
        },
        {
          "output_type": "stream",
          "name": "stdout",
          "text": [
            "       pixel1  pixel2  pixel3  pixel4  pixel5  pixel6  pixel7  pixel8  pixel9  \\\n",
            "0         0.0     0.0     0.0     0.0     0.0     0.0     0.0     0.0     0.0   \n",
            "1         0.0     0.0     0.0     0.0     0.0     0.0     0.0     0.0     0.0   \n",
            "2         0.0     0.0     0.0     0.0     0.0     0.0     0.0     0.0     0.0   \n",
            "3         0.0     0.0     0.0     0.0     0.0     0.0     0.0     0.0     0.0   \n",
            "4         0.0     0.0     0.0     0.0     0.0     0.0     0.0     0.0     0.0   \n",
            "...       ...     ...     ...     ...     ...     ...     ...     ...     ...   \n",
            "69995     0.0     0.0     0.0     0.0     0.0     0.0     0.0     0.0     0.0   \n",
            "69996     0.0     0.0     0.0     0.0     0.0     0.0     0.0     0.0     0.0   \n",
            "69997     0.0     0.0     0.0     0.0     0.0     0.0     0.0     0.0     0.0   \n",
            "69998     0.0     0.0     0.0     0.0     0.0     0.0     0.0     0.0     0.0   \n",
            "69999     0.0     0.0     0.0     0.0     0.0     0.0     0.0     0.0     0.0   \n",
            "\n",
            "       pixel10  ...  pixel775  pixel776  pixel777  pixel778  pixel779  \\\n",
            "0          0.0  ...       0.0       0.0       0.0       0.0       0.0   \n",
            "1          0.0  ...       0.0       0.0       0.0       0.0       0.0   \n",
            "2          0.0  ...       0.0       0.0       0.0       0.0       0.0   \n",
            "3          0.0  ...       0.0       0.0       0.0       0.0       0.0   \n",
            "4          0.0  ...       0.0       0.0       0.0       0.0       0.0   \n",
            "...        ...  ...       ...       ...       ...       ...       ...   \n",
            "69995      0.0  ...       0.0       0.0       0.0       0.0       0.0   \n",
            "69996      0.0  ...       0.0       0.0       0.0       0.0       0.0   \n",
            "69997      0.0  ...       0.0       0.0       0.0       0.0       0.0   \n",
            "69998      0.0  ...       0.0       0.0       0.0       0.0       0.0   \n",
            "69999      0.0  ...       0.0       0.0       0.0       0.0       0.0   \n",
            "\n",
            "       pixel780  pixel781  pixel782  pixel783  pixel784  \n",
            "0           0.0       0.0       0.0       0.0       0.0  \n",
            "1           0.0       0.0       0.0       0.0       0.0  \n",
            "2           0.0       0.0       0.0       0.0       0.0  \n",
            "3           0.0       0.0       0.0       0.0       0.0  \n",
            "4           0.0       0.0       0.0       0.0       0.0  \n",
            "...         ...       ...       ...       ...       ...  \n",
            "69995       0.0       0.0       0.0       0.0       0.0  \n",
            "69996       0.0       0.0       0.0       0.0       0.0  \n",
            "69997       0.0       0.0       0.0       0.0       0.0  \n",
            "69998       0.0       0.0       0.0       0.0       0.0  \n",
            "69999       0.0       0.0       0.0       0.0       0.0  \n",
            "\n",
            "[70000 rows x 784 columns] 0        5\n",
            "1        0\n",
            "2        4\n",
            "3        1\n",
            "4        9\n",
            "        ..\n",
            "69995    2\n",
            "69996    3\n",
            "69997    4\n",
            "69998    5\n",
            "69999    6\n",
            "Name: class, Length: 70000, dtype: category\n",
            "Categories (10, object): ['0', '1', '2', '3', ..., '6', '7', '8', '9']\n"
          ]
        }
      ]
    },
    {
      "cell_type": "code",
      "source": [
        "X = X.to_numpy()\n",
        "y = y.to_numpy()"
      ],
      "metadata": {
        "id": "_bJrtKml_6jl"
      },
      "execution_count": 100,
      "outputs": []
    },
    {
      "cell_type": "code",
      "source": [
        "print(\"shape of features\", X.shape)\n",
        "print(\"shape of target values\", y.shape)\n"
      ],
      "metadata": {
        "id": "G6DI_Hmg_8_N",
        "colab": {
          "base_uri": "https://localhost:8080/"
        },
        "outputId": "b04d5f02-df25-4e7d-a2c3-cf3e036596df"
      },
      "execution_count": 101,
      "outputs": [
        {
          "output_type": "stream",
          "name": "stdout",
          "text": [
            "shape of features (70000, 784)\n",
            "shape of target values (70000,)\n"
          ]
        }
      ]
    },
    {
      "cell_type": "markdown",
      "source": [
        "Train Test Split"
      ],
      "metadata": {
        "id": "cSAy9Sdz0YQn"
      }
    },
    {
      "cell_type": "code",
      "source": [
        "X_train,X_test,y_train,y_test = train_test_split(X,y,test_size = 0.2)\n",
        "\n"
      ],
      "metadata": {
        "id": "NN86SftAAmfi"
      },
      "execution_count": 102,
      "outputs": []
    },
    {
      "cell_type": "code",
      "source": [
        "clf = ANN(hidden_layer_sizes=(10, 5), learning_rate=\"adaptive\", activation = \"relu\", max_iter=1, warm_start=True)\n",
        "training_loss_values = []\n",
        "for epoch in range(100):\n",
        "    clf.fit(X_train, y_train)\n",
        "    training_loss = clf.loss_\n",
        "    training_loss_values.append(training_loss)\n",
        "    print(f\"Epoch {epoch+1}, Training Loss: {training_loss}\")"
      ],
      "metadata": {
        "colab": {
          "base_uri": "https://localhost:8080/"
        },
        "id": "qke_7u2EJ3RH",
        "outputId": "7bc21f25-4041-4fb8-bf14-e5b10db17490"
      },
      "execution_count": 112,
      "outputs": [
        {
          "output_type": "stream",
          "name": "stderr",
          "text": [
            "/usr/local/lib/python3.10/dist-packages/sklearn/neural_network/_multilayer_perceptron.py:686: ConvergenceWarning: Stochastic Optimizer: Maximum iterations (1) reached and the optimization hasn't converged yet.\n",
            "  warnings.warn(\n"
          ]
        },
        {
          "output_type": "stream",
          "name": "stdout",
          "text": [
            "Epoch 1, Training Loss: 2.1930320061065047\n",
            "Epoch 2, Training Loss: 1.985746329245391\n",
            "Epoch 3, Training Loss: 1.8122863447828574\n",
            "Epoch 4, Training Loss: 1.6413015525768737\n",
            "Epoch 5, Training Loss: 1.4874135908007486\n",
            "Epoch 6, Training Loss: 1.3550573855160437\n",
            "Epoch 7, Training Loss: 1.251164899528273\n",
            "Epoch 8, Training Loss: 1.1615451327695012\n",
            "Epoch 9, Training Loss: 1.0940599235846615\n",
            "Epoch 10, Training Loss: 1.031884393648007\n",
            "Epoch 11, Training Loss: 0.9820829791218152\n",
            "Epoch 12, Training Loss: 0.9356988620530258\n",
            "Epoch 13, Training Loss: 0.8928342383920578\n",
            "Epoch 14, Training Loss: 0.8462276849550486\n",
            "Epoch 15, Training Loss: 0.804506428326138\n",
            "Epoch 16, Training Loss: 0.7712322623381197\n",
            "Epoch 17, Training Loss: 0.7450352388148327\n",
            "Epoch 18, Training Loss: 0.7160990366948914\n",
            "Epoch 19, Training Loss: 0.6948385309090801\n",
            "Epoch 20, Training Loss: 0.6739381892080352\n",
            "Epoch 21, Training Loss: 0.6648864048090777\n",
            "Epoch 22, Training Loss: 0.6502626887097986\n",
            "Epoch 23, Training Loss: 0.6352507363013472\n",
            "Epoch 24, Training Loss: 0.6272043839594106\n",
            "Epoch 25, Training Loss: 0.6197361359149942\n"
          ]
        },
        {
          "output_type": "stream",
          "name": "stderr",
          "text": [
            "/usr/local/lib/python3.10/dist-packages/sklearn/neural_network/_multilayer_perceptron.py:693: UserWarning: Training interrupted by user.\n",
            "  warnings.warn(\"Training interrupted by user.\")\n"
          ]
        },
        {
          "output_type": "stream",
          "name": "stdout",
          "text": [
            "Epoch 26, Training Loss: 0.6197361359149942\n",
            "Epoch 27, Training Loss: 0.6172845948071254\n",
            "Epoch 28, Training Loss: 0.6006562793650799\n",
            "Epoch 29, Training Loss: 0.589539306287789\n"
          ]
        },
        {
          "output_type": "stream",
          "name": "stderr",
          "text": [
            "/usr/local/lib/python3.10/dist-packages/sklearn/neural_network/_multilayer_perceptron.py:693: UserWarning: Training interrupted by user.\n",
            "  warnings.warn(\"Training interrupted by user.\")\n"
          ]
        },
        {
          "output_type": "stream",
          "name": "stdout",
          "text": [
            "Epoch 30, Training Loss: 0.589539306287789\n",
            "Epoch 31, Training Loss: 0.5769577342093266\n",
            "Epoch 32, Training Loss: 0.5695836676496363\n",
            "Epoch 33, Training Loss: 0.5727427778927784\n",
            "Epoch 34, Training Loss: 0.5531510735040518\n",
            "Epoch 35, Training Loss: 0.54514541511221\n",
            "Epoch 36, Training Loss: 0.5459310579956819\n",
            "Epoch 37, Training Loss: 0.5381245231063322\n",
            "Epoch 38, Training Loss: 0.523896918764416\n",
            "Epoch 39, Training Loss: 0.5232233725525671\n",
            "Epoch 40, Training Loss: 0.5123931912925225\n",
            "Epoch 41, Training Loss: 0.5069465830283492\n",
            "Epoch 42, Training Loss: 0.5058547997890066\n",
            "Epoch 43, Training Loss: 0.4960098668592289\n",
            "Epoch 44, Training Loss: 0.48549262407088173\n",
            "Epoch 45, Training Loss: 0.48393470855949855\n",
            "Epoch 46, Training Loss: 0.4897701786243295\n",
            "Epoch 47, Training Loss: 0.4790364197900478\n",
            "Epoch 48, Training Loss: 0.47303102924111656\n",
            "Epoch 49, Training Loss: 0.47037603805435396\n",
            "Epoch 50, Training Loss: 0.46262998432995\n",
            "Epoch 51, Training Loss: 0.4724404463763878\n",
            "Epoch 52, Training Loss: 0.4622614932782371\n",
            "Epoch 53, Training Loss: 0.4581150813351979\n",
            "Epoch 54, Training Loss: 0.46341688225562366\n",
            "Epoch 55, Training Loss: 0.45183146825358367\n",
            "Epoch 56, Training Loss: 0.4562734472904646\n",
            "Epoch 57, Training Loss: 0.44958642173485697\n",
            "Epoch 58, Training Loss: 0.45154291747286074\n",
            "Epoch 59, Training Loss: 0.4373336879632885\n",
            "Epoch 60, Training Loss: 0.4385617609456882\n",
            "Epoch 61, Training Loss: 0.43647424524952\n",
            "Epoch 62, Training Loss: 0.43696183514146064\n",
            "Epoch 63, Training Loss: 0.42962355823062776\n",
            "Epoch 64, Training Loss: 0.4261504541698356\n",
            "Epoch 65, Training Loss: 0.43452032004919905\n",
            "Epoch 66, Training Loss: 0.42643885144657717\n",
            "Epoch 67, Training Loss: 0.4292398330522928\n",
            "Epoch 68, Training Loss: 0.4355193172140063\n",
            "Epoch 69, Training Loss: 0.4238274498195935\n",
            "Epoch 70, Training Loss: 0.4231085406987935\n",
            "Epoch 71, Training Loss: 0.4228608109600206\n",
            "Epoch 72, Training Loss: 0.4352804667992891\n",
            "Epoch 73, Training Loss: 0.4277254706180752\n",
            "Epoch 74, Training Loss: 0.43280070344821847\n",
            "Epoch 75, Training Loss: 0.42248107850202254\n",
            "Epoch 76, Training Loss: 0.43623360742981615\n",
            "Epoch 77, Training Loss: 0.4269918474320229\n",
            "Epoch 78, Training Loss: 0.4157634173789552\n",
            "Epoch 79, Training Loss: 0.41672072610798977\n",
            "Epoch 80, Training Loss: 0.4166141843001419\n",
            "Epoch 81, Training Loss: 0.41409090347745825\n",
            "Epoch 82, Training Loss: 0.4184724741372381\n",
            "Epoch 83, Training Loss: 0.4234857059404559\n",
            "Epoch 84, Training Loss: 0.4193815454122\n",
            "Epoch 85, Training Loss: 0.421608850680994\n",
            "Epoch 86, Training Loss: 0.4148840413621\n",
            "Epoch 87, Training Loss: 0.42230546282917875\n",
            "Epoch 88, Training Loss: 0.4140018727577016\n",
            "Epoch 89, Training Loss: 0.4117503291082098\n",
            "Epoch 90, Training Loss: 0.4054715841454866\n",
            "Epoch 91, Training Loss: 0.407100182118532\n",
            "Epoch 92, Training Loss: 0.40384921445152894\n",
            "Epoch 93, Training Loss: 0.4141068816510549\n",
            "Epoch 94, Training Loss: 0.4007177870300103\n",
            "Epoch 95, Training Loss: 0.4026960653337907\n",
            "Epoch 96, Training Loss: 0.3989513616788065\n",
            "Epoch 97, Training Loss: 0.39203717245260783\n",
            "Epoch 98, Training Loss: 0.40488991366850735\n",
            "Epoch 99, Training Loss: 0.406040183510184\n",
            "Epoch 100, Training Loss: 0.4026423865124687\n"
          ]
        }
      ]
    },
    {
      "cell_type": "code",
      "source": [
        "clf.score(X_test,y_test)"
      ],
      "metadata": {
        "colab": {
          "base_uri": "https://localhost:8080/"
        },
        "id": "JYEhlyyCKBrI",
        "outputId": "645e3076-c6c6-435f-b1f3-f4b50aca3d8e"
      },
      "execution_count": 104,
      "outputs": [
        {
          "output_type": "execute_result",
          "data": {
            "text/plain": [
              "0.8724285714285714"
            ]
          },
          "metadata": {},
          "execution_count": 104
        }
      ]
    },
    {
      "cell_type": "markdown",
      "source": [
        "running the model on random test image"
      ],
      "metadata": {
        "id": "EAt5gplor1O9"
      }
    },
    {
      "cell_type": "code",
      "source": [
        "print(clf.predict([X_test[16]]))\n",
        "plt.gray()\n",
        "plt.imshow(X_test[16].reshape(28,28))"
      ],
      "metadata": {
        "colab": {
          "base_uri": "https://localhost:8080/",
          "height": 465
        },
        "id": "u-7_FDNmKpUY",
        "outputId": "c81e35fc-6f7b-4677-9b2d-406e453e8416"
      },
      "execution_count": 105,
      "outputs": [
        {
          "output_type": "stream",
          "name": "stdout",
          "text": [
            "['0']\n"
          ]
        },
        {
          "output_type": "execute_result",
          "data": {
            "text/plain": [
              "<matplotlib.image.AxesImage at 0x7cb25f107b20>"
            ]
          },
          "metadata": {},
          "execution_count": 105
        },
        {
          "output_type": "display_data",
          "data": {
            "text/plain": [
              "<Figure size 640x480 with 1 Axes>"
            ],
            "image/png": "[encoded data removed]"
          },
          "metadata": {}
        }
      ]
    },
    {
      "cell_type": "code",
      "source": [
        "print(clf.predict([X_test[66]]))\n",
        "plt.gray()\n",
        "plt.imshow(X_test[66].reshape(28,28))"
      ],
      "metadata": {
        "colab": {
          "base_uri": "https://localhost:8080/",
          "height": 465
        },
        "id": "1BuS0EoG7Z4D",
        "outputId": "7d473789-128a-473a-c9af-41f06c3404cd"
      },
      "execution_count": 132,
      "outputs": [
        {
          "output_type": "stream",
          "name": "stdout",
          "text": [
            "['6']\n"
          ]
        },
        {
          "output_type": "execute_result",
          "data": {
            "text/plain": [
              "<matplotlib.image.AxesImage at 0x7cb1b8622710>"
            ]
          },
          "metadata": {},
          "execution_count": 132
        },
        {
          "output_type": "display_data",
          "data": {
            "text/plain": [
              "<Figure size 640x480 with 1 Axes>"
            ],
            "image/png": "[encoded data removed]"
          },
          "metadata": {}
        }
      ]
    },
    {
      "cell_type": "code",
      "source": [
        "print(clf.predict([X_test[109]]))\n",
        "plt.gray()\n",
        "plt.imshow(X_test[109].reshape(28,28))"
      ],
      "metadata": {
        "colab": {
          "base_uri": "https://localhost:8080/",
          "height": 465
        },
        "id": "s9gp5cAO7eK1",
        "outputId": "2bdc6a36-bc5e-4f7f-fd19-22fcf7f30098"
      },
      "execution_count": 133,
      "outputs": [
        {
          "output_type": "stream",
          "name": "stdout",
          "text": [
            "['1']\n"
          ]
        },
        {
          "output_type": "execute_result",
          "data": {
            "text/plain": [
              "<matplotlib.image.AxesImage at 0x7cb1b7372cb0>"
            ]
          },
          "metadata": {},
          "execution_count": 133
        },
        {
          "output_type": "display_data",
          "data": {
            "text/plain": [
              "<Figure size 640x480 with 1 Axes>"
            ],
            "image/png": "[encoded data removed]"
          },
          "metadata": {}
        }
      ]
    },
    {
      "cell_type": "markdown",
      "source": [
        "Checking where the model failed"
      ],
      "metadata": {
        "id": "yoqKW0KGr6O5"
      }
    },
    {
      "cell_type": "code",
      "source": [
        "a, _ = X_test.shape\n",
        "y_pred = []\n",
        "# Iterate over each row in X_test\n",
        "for i in range(a):\n",
        "    prediction = clf.predict([X_test[i]])\n",
        "    y_pred.append(prediction)\n",
        "\n"
      ],
      "metadata": {
        "id": "IDWsFOjQr-Ne"
      },
      "execution_count": 106,
      "outputs": []
    },
    {
      "cell_type": "code",
      "source": [
        "a, = y_test.shape\n",
        "false_pred = []\n",
        "for i in range(a):\n",
        "  if int(y_pred[i][0])!=int(y_test[i]):\n",
        "    false_pred.append(X_test[i])\n"
      ],
      "metadata": {
        "id": "dEhaie6fw5j-"
      },
      "execution_count": 107,
      "outputs": []
    },
    {
      "cell_type": "code",
      "source": [
        "plt.gray()\n",
        "for i in range(6):\n",
        "  print(clf.predict([false_pred[i]]))\n",
        "  plt.imshow(false_pred[i].T.reshape(28,28))\n",
        "  plt.show()"
      ],
      "metadata": {
        "colab": {
          "base_uri": "https://localhost:8080/",
          "height": 1000
        },
        "id": "a_P2wrVRxi9I",
        "outputId": "47a375f8-cad8-4b8b-be6a-00892e01b22b"
      },
      "execution_count": 108,
      "outputs": [
        {
          "output_type": "stream",
          "name": "stdout",
          "text": [
            "['8']\n"
          ]
        },
        {
          "output_type": "display_data",
          "data": {
            "text/plain": [
              "<Figure size 640x480 with 1 Axes>"
            ],
            "image/png": "[encoded data removed]"
          },
          "metadata": {}
        },
        {
          "output_type": "stream",
          "name": "stdout",
          "text": [
            "['8']\n"
          ]
        },
        {
          "output_type": "display_data",
          "data": {
            "text/plain": [
              "<Figure size 640x480 with 1 Axes>"
            ],
            "image/png": "[encoded data removed]"
          },
          "metadata": {}
        },
        {
          "output_type": "stream",
          "name": "stdout",
          "text": [
            "['0']\n"
          ]
        },
        {
          "output_type": "display_data",
          "data": {
            "text/plain": [
              "<Figure size 640x480 with 1 Axes>"
            ],
            "image/png": "[encoded data removed]"
          },
          "metadata": {}
        },
        {
          "output_type": "stream",
          "name": "stdout",
          "text": [
            "['0']\n"
          ]
        },
        {
          "output_type": "display_data",
          "data": {
            "text/plain": [
              "<Figure size 640x480 with 1 Axes>"
            ],
            "image/png": "[encoded data removed]"
          },
          "metadata": {}
        },
        {
          "output_type": "stream",
          "name": "stdout",
          "text": [
            "['0']\n"
          ]
        },
        {
          "output_type": "display_data",
          "data": {
            "text/plain": [
              "<Figure size 640x480 with 1 Axes>"
            ],
            "image/png": "[encoded data removed]"
          },
          "metadata": {}
        },
        {
          "output_type": "stream",
          "name": "stdout",
          "text": [
            "['7']\n"
          ]
        },
        {
          "output_type": "display_data",
          "data": {
            "text/plain": [
              "<Figure size 640x480 with 1 Axes>"
            ],
            "image/png": "[encoded data removed]"
          },
          "metadata": {}
        }
      ]
    },
    {
      "cell_type": "markdown",
      "source": [
        "Training loss curve"
      ],
      "metadata": {
        "id": "njX5jRQC3lpc"
      }
    },
    {
      "cell_type": "code",
      "source": [
        "plt.plot(range(1, len(training_loss_values) + 1), training_loss_values, 'b-')\n",
        "plt.title('Training Loss Curve')\n",
        "plt.xlabel('Epochs')\n",
        "plt.ylabel('Training Loss')\n",
        "plt.show()"
      ],
      "metadata": {
        "colab": {
          "base_uri": "https://localhost:8080/",
          "height": 472
        },
        "id": "mcxNdlIAyz9e",
        "outputId": "62dade3d-39bf-4028-a073-1b47cb9ed22d"
      },
      "execution_count": 113,
      "outputs": [
        {
          "output_type": "display_data",
          "data": {
            "text/plain": [
              "<Figure size 640x480 with 1 Axes>"
            ],
            "image/png": "[encoded data removed]"
          },
          "metadata": {}
        }
      ]
    },
    {
      "cell_type": "markdown",
      "source": [
        "Confusion matrix"
      ],
      "metadata": {
        "id": "cRkeezMC75ej"
      }
    },
    {
      "cell_type": "code",
      "source": [
        "y_predicted = []\n",
        "for i in y_pred:\n",
        "  y_predicted.append(i[0])\n",
        "y_predicted = np.array(y_predicted)\n",
        "labels = []\n",
        "for i in range(10):\n",
        "  labels.append(i)"
      ],
      "metadata": {
        "id": "gC0Q5zOT3zne"
      },
      "execution_count": 130,
      "outputs": []
    },
    {
      "cell_type": "code",
      "source": [
        "from sklearn.metrics import confusion_matrix\n",
        "cm = confusion_matrix(y_test, y_predicted)\n",
        "plt.figure(figsize=(10, 8))\n",
        "\n",
        "sns.heatmap(cm, annot=True, cmap='Blues', fmt='g', xticklabels=labels, yticklabels=labels)\n",
        "plt.title('Confusion Matrix')\n",
        "plt.xlabel('Predicted')\n",
        "plt.ylabel('Actual')\n",
        "plt.show()"
      ],
      "metadata": {
        "colab": {
          "base_uri": "https://localhost:8080/",
          "height": 738
        },
        "id": "BANNSvxN28gL",
        "outputId": "4fd2d47b-2c54-4e82-a959-f77156066091"
      },
      "execution_count": 131,
      "outputs": [
        {
          "output_type": "display_data",
          "data": {
            "text/plain": [
              "<Figure size 1000x800 with 2 Axes>"
            ],
            "image/png": "[encoded data removed]"
          },
          "metadata": {}
        }
      ]
    },
    {
      "cell_type": "markdown",
      "source": [
        "Classification report"
      ],
      "metadata": {
        "id": "qql8Qbo177vf"
      }
    },
    {
      "cell_type": "code",
      "source": [
        "from sklearn.metrics import classification_report as report\n",
        "r = report(y_test, y_predicted, output_dict=True)\n",
        "df = pd.DataFrame.from_dict(r)\n",
        "df"
      ],
      "metadata": {
        "colab": {
          "base_uri": "https://localhost:8080/",
          "height": 195
        },
        "id": "hDnRDojC73H8",
        "outputId": "3b24fd3c-b0ba-4ac7-e7f8-7f5b15e317ad"
      },
      "execution_count": 141,
      "outputs": [
        {
          "output_type": "execute_result",
          "data": {
            "text/plain": [
              "                     0            1            2            3            4  \\\n",
              "precision     0.922747     0.970978     0.790019     0.889322     0.885140   \n",
              "recall        0.927390     0.955307     0.866999     0.788528     0.907285   \n",
              "f1-score      0.925063     0.963079     0.826721     0.835897     0.896076   \n",
              "support    1391.000000  1611.000000  1406.000000  1447.000000  1359.000000   \n",
              "\n",
              "                     5            6            7            8            9  \\\n",
              "precision     0.728840     0.897203     0.923558     0.845136     0.850877   \n",
              "recall        0.729412     0.926354     0.923558     0.821483     0.852747   \n",
              "f1-score      0.729126     0.911545     0.923558     0.833142     0.851811   \n",
              "support    1275.000000  1385.000000  1439.000000  1322.000000  1365.000000   \n",
              "\n",
              "           accuracy     macro avg  weighted avg  \n",
              "precision  0.872429      0.870382      0.873423  \n",
              "recall     0.872429      0.869906      0.872429  \n",
              "f1-score   0.872429      0.869602      0.872373  \n",
              "support    0.872429  14000.000000  14000.000000  "
            ],
            "text/html": [
              "\n",
              "  <div id=\"df-7e258a94-b67b-45e5-b120-a6621b0b3e30\" class=\"colab-df-container\">\n",
              "    <div>\n",
              "<style scoped>\n",
              "    .dataframe tbody tr th:only-of-type {\n",
              "        vertical-align: middle;\n",
              "    }\n",
              "\n",
              "    .dataframe tbody tr th {\n",
              "        vertical-align: top;\n",
              "    }\n",
              "\n",
              "    .dataframe thead th {\n",
              "        text-align: right;\n",
              "    }\n",
              "</style>\n",
              "<table border=\"1\" class=\"dataframe\">\n",
              "  <thead>\n",
              "    <tr style=\"text-align: right;\">\n",
              "      <th></th>\n",
              "      <th>0</th>\n",
              "      <th>1</th>\n",
              "      <th>2</th>\n",
              "      <th>3</th>\n",
              "      <th>4</th>\n",
              "      <th>5</th>\n",
              "      <th>6</th>\n",
              "      <th>7</th>\n",
              "      <th>8</th>\n",
              "      <th>9</th>\n",
              "      <th>accuracy</th>\n",
              "      <th>macro avg</th>\n",
              "      <th>weighted avg</th>\n",
              "    </tr>\n",
              "  </thead>\n",
              "  <tbody>\n",
              "    <tr>\n",
              "      <th>precision</th>\n",
              "      <td>0.922747</td>\n",
              "      <td>0.970978</td>\n",
              "      <td>0.790019</td>\n",
              "      <td>0.889322</td>\n",
              "      <td>0.885140</td>\n",
              "      <td>0.728840</td>\n",
              "      <td>0.897203</td>\n",
              "      <td>0.923558</td>\n",
              "      <td>0.845136</td>\n",
              "      <td>0.850877</td>\n",
              "      <td>0.872429</td>\n",
              "      <td>0.870382</td>\n",
              "      <td>0.873423</td>\n",
              "    </tr>\n",
              "    <tr>\n",
              "      <th>recall</th>\n",
              "      <td>0.927390</td>\n",
              "      <td>0.955307</td>\n",
              "      <td>0.866999</td>\n",
              "      <td>0.788528</td>\n",
              "      <td>0.907285</td>\n",
              "      <td>0.729412</td>\n",
              "      <td>0.926354</td>\n",
              "      <td>0.923558</td>\n",
              "      <td>0.821483</td>\n",
              "      <td>0.852747</td>\n",
              "      <td>0.872429</td>\n",
              "      <td>0.869906</td>\n",
              "      <td>0.872429</td>\n",
              "    </tr>\n",
              "    <tr>\n",
              "      <th>f1-score</th>\n",
              "      <td>0.925063</td>\n",
              "      <td>0.963079</td>\n",
              "      <td>0.826721</td>\n",
              "      <td>0.835897</td>\n",
              "      <td>0.896076</td>\n",
              "      <td>0.729126</td>\n",
              "      <td>0.911545</td>\n",
              "      <td>0.923558</td>\n",
              "      <td>0.833142</td>\n",
              "      <td>0.851811</td>\n",
              "      <td>0.872429</td>\n",
              "      <td>0.869602</td>\n",
              "      <td>0.872373</td>\n",
              "    </tr>\n",
              "    <tr>\n",
              "      <th>support</th>\n",
              "      <td>1391.000000</td>\n",
              "      <td>1611.000000</td>\n",
              "      <td>1406.000000</td>\n",
              "      <td>1447.000000</td>\n",
              "      <td>1359.000000</td>\n",
              "      <td>1275.000000</td>\n",
              "      <td>1385.000000</td>\n",
              "      <td>1439.000000</td>\n",
              "      <td>1322.000000</td>\n",
              "      <td>1365.000000</td>\n",
              "      <td>0.872429</td>\n",
              "      <td>14000.000000</td>\n",
              "      <td>14000.000000</td>\n",
              "    </tr>\n",
              "  </tbody>\n",
              "</table>\n",
              "</div>\n",
              "    <div class=\"colab-df-buttons\">\n",
              "\n",
              "  <div class=\"colab-df-container\">\n",
              "    <button class=\"colab-df-convert\" onclick=\"convertToInteractive('df-7e258a94-b67b-45e5-b120-a6621b0b3e30')\"\n",
              "            title=\"Convert this dataframe to an interactive table.\"\n",
              "            style=\"display:none;\">\n",
              "\n",
              "  <svg xmlns=\"http://www.w3.org/2000/svg\" height=\"24px\" viewBox=\"0 -960 960 960\">\n",
              "    <path d=\"M120-120v-720h720v720H120Zm60-500h600v-160H180v160Zm220 220h160v-160H400v160Zm0 220h160v-160H400v160ZM180-400h160v-160H180v160Zm440 0h160v-160H620v160ZM180-180h160v-160H180v160Zm440 0h160v-160H620v160Z\"/>\n",
              "  </svg>\n",
              "    </button>\n",
              "\n",
              "  <style>\n",
              "    .colab-df-container {\n",
              "      display:flex;\n",
              "      gap: 12px;\n",
              "    }\n",
              "\n",
              "    .colab-df-convert {\n",
              "      background-color: #E8F0FE;\n",
              "      border: none;\n",
              "      border-radius: 50%;\n",
              "      cursor: pointer;\n",
              "      display: none;\n",
              "      fill: #1967D2;\n",
              "      height: 32px;\n",
              "      padding: 0 0 0 0;\n",
              "      width: 32px;\n",
              "    }\n",
              "\n",
              "    .colab-df-convert:hover {\n",
              "      background-color: #E2EBFA;\n",
              "      box-shadow: 0px 1px 2px rgba(60, 64, 67, 0.3), 0px 1px 3px 1px rgba(60, 64, 67, 0.15);\n",
              "      fill: #174EA6;\n",
              "    }\n",
              "\n",
              "    .colab-df-buttons div {\n",
              "      margin-bottom: 4px;\n",
              "    }\n",
              "\n",
              "    [theme=dark] .colab-df-convert {\n",
              "      background-color: #3B4455;\n",
              "      fill: #D2E3FC;\n",
              "    }\n",
              "\n",
              "    [theme=dark] .colab-df-convert:hover {\n",
              "      background-color: #434B5C;\n",
              "      box-shadow: 0px 1px 3px 1px rgba(0, 0, 0, 0.15);\n",
              "      filter: drop-shadow(0px 1px 2px rgba(0, 0, 0, 0.3));\n",
              "      fill: #FFFFFF;\n",
              "    }\n",
              "  </style>\n",
              "\n",
              "    <script>\n",
              "      const buttonEl =\n",
              "        document.querySelector('#df-7e258a94-b67b-45e5-b120-a6621b0b3e30 button.colab-df-convert');\n",
              "      buttonEl.style.display =\n",
              "        google.colab.kernel.accessAllowed ? 'block' : 'none';\n",
              "\n",
              "      async function convertToInteractive(key) {\n",
              "        const element = document.querySelector('#df-7e258a94-b67b-45e5-b120-a6621b0b3e30');\n",
              "        const dataTable =\n",
              "          await google.colab.kernel.invokeFunction('convertToInteractive',\n",
              "                                                    [key], {});\n",
              "        if (!dataTable) return;\n",
              "\n",
              "        const docLinkHtml = 'Like what you see? Visit the ' +\n",
              "          '<a target=\"_blank\" href=https://colab.research.google.com/notebooks/data_table.ipynb>data table notebook</a>'\n",
              "          + ' to learn more about interactive tables.';\n",
              "        element.innerHTML = '';\n",
              "        dataTable['output_type'] = 'display_data';\n",
              "        await google.colab.output.renderOutput(dataTable, element);\n",
              "        const docLink = document.createElement('div');\n",
              "        docLink.innerHTML = docLinkHtml;\n",
              "        element.appendChild(docLink);\n",
              "      }\n",
              "    </script>\n",
              "  </div>\n",
              "\n",
              "\n",
              "<div id=\"df-4498828b-05db-4678-9c03-3bbf06b3dc4e\">\n",
              "  <button class=\"colab-df-quickchart\" onclick=\"quickchart('df-4498828b-05db-4678-9c03-3bbf06b3dc4e')\"\n",
              "            title=\"Suggest charts\"\n",
              "            style=\"display:none;\">\n",
              "\n",
              "<svg xmlns=\"http://www.w3.org/2000/svg\" height=\"24px\"viewBox=\"0 0 24 24\"\n",
              "     width=\"24px\">\n",
              "    <g>\n",
              "        <path d=\"M19 3H5c-1.1 0-2 .9-2 2v14c0 1.1.9 2 2 2h14c1.1 0 2-.9 2-2V5c0-1.1-.9-2-2-2zM9 17H7v-7h2v7zm4 0h-2V7h2v10zm4 0h-2v-4h2v4z\"/>\n",
              "    </g>\n",
              "</svg>\n",
              "  </button>\n",
              "\n",
              "<style>\n",
              "  .colab-df-quickchart {\n",
              "      --bg-color: #E8F0FE;\n",
              "      --fill-color: #1967D2;\n",
              "      --hover-bg-color: #E2EBFA;\n",
              "      --hover-fill-color: #174EA6;\n",
              "      --disabled-fill-color: #AAA;\n",
              "      --disabled-bg-color: #DDD;\n",
              "  }\n",
              "\n",
              "  [theme=dark] .colab-df-quickchart {\n",
              "      --bg-color: #3B4455;\n",
              "      --fill-color: #D2E3FC;\n",
              "      --hover-bg-color: #434B5C;\n",
              "      --hover-fill-color: #FFFFFF;\n",
              "      --disabled-bg-color: #3B4455;\n",
              "      --disabled-fill-color: #666;\n",
              "  }\n",
              "\n",
              "  .colab-df-quickchart {\n",
              "    background-color: var(--bg-color);\n",
              "    border: none;\n",
              "    border-radius: 50%;\n",
              "    cursor: pointer;\n",
              "    display: none;\n",
              "    fill: var(--fill-color);\n",
              "    height: 32px;\n",
              "    padding: 0;\n",
              "    width: 32px;\n",
              "  }\n",
              "\n",
              "  .colab-df-quickchart:hover {\n",
              "    background-color: var(--hover-bg-color);\n",
              "    box-shadow: 0 1px 2px rgba(60, 64, 67, 0.3), 0 1px 3px 1px rgba(60, 64, 67, 0.15);\n",
              "    fill: var(--button-hover-fill-color);\n",
              "  }\n",
              "\n",
              "  .colab-df-quickchart-complete:disabled,\n",
              "  .colab-df-quickchart-complete:disabled:hover {\n",
              "    background-color: var(--disabled-bg-color);\n",
              "    fill: var(--disabled-fill-color);\n",
              "    box-shadow: none;\n",
              "  }\n",
              "\n",
              "  .colab-df-spinner {\n",
              "    border: 2px solid var(--fill-color);\n",
              "    border-color: transparent;\n",
              "    border-bottom-color: var(--fill-color);\n",
              "    animation:\n",
              "      spin 1s steps(1) infinite;\n",
              "  }\n",
              "\n",
              "  @keyframes spin {\n",
              "    0% {\n",
              "      border-color: transparent;\n",
              "      border-bottom-color: var(--fill-color);\n",
              "      border-left-color: var(--fill-color);\n",
              "    }\n",
              "    20% {\n",
              "      border-color: transparent;\n",
              "      border-left-color: var(--fill-color);\n",
              "      border-top-color: var(--fill-color);\n",
              "    }\n",
              "    30% {\n",
              "      border-color: transparent;\n",
              "      border-left-color: var(--fill-color);\n",
              "      border-top-color: var(--fill-color);\n",
              "      border-right-color: var(--fill-color);\n",
              "    }\n",
              "    40% {\n",
              "      border-color: transparent;\n",
              "      border-right-color: var(--fill-color);\n",
              "      border-top-color: var(--fill-color);\n",
              "    }\n",
              "    60% {\n",
              "      border-color: transparent;\n",
              "      border-right-color: var(--fill-color);\n",
              "    }\n",
              "    80% {\n",
              "      border-color: transparent;\n",
              "      border-right-color: var(--fill-color);\n",
              "      border-bottom-color: var(--fill-color);\n",
              "    }\n",
              "    90% {\n",
              "      border-color: transparent;\n",
              "      border-bottom-color: var(--fill-color);\n",
              "    }\n",
              "  }\n",
              "</style>\n",
              "\n",
              "  <script>\n",
              "    async function quickchart(key) {\n",
              "      const quickchartButtonEl =\n",
              "        document.querySelector('#' + key + ' button');\n",
              "      quickchartButtonEl.disabled = true;  // To prevent multiple clicks.\n",
              "      quickchartButtonEl.classList.add('colab-df-spinner');\n",
              "      try {\n",
              "        const charts = await google.colab.kernel.invokeFunction(\n",
              "            'suggestCharts', [key], {});\n",
              "      } catch (error) {\n",
              "        console.error('Error during call to suggestCharts:', error);\n",
              "      }\n",
              "      quickchartButtonEl.classList.remove('colab-df-spinner');\n",
              "      quickchartButtonEl.classList.add('colab-df-quickchart-complete');\n",
              "    }\n",
              "    (() => {\n",
              "      let quickchartButtonEl =\n",
              "        document.querySelector('#df-4498828b-05db-4678-9c03-3bbf06b3dc4e button');\n",
              "      quickchartButtonEl.style.display =\n",
              "        google.colab.kernel.accessAllowed ? 'block' : 'none';\n",
              "    })();\n",
              "  </script>\n",
              "</div>\n",
              "\n",
              "  <div id=\"id_92395a46-ac40-4624-84f1-a0bcafc425f4\">\n",
              "    <style>\n",
              "      .colab-df-generate {\n",
              "        background-color: #E8F0FE;\n",
              "        border: none;\n",
              "        border-radius: 50%;\n",
              "        cursor: pointer;\n",
              "        display: none;\n",
              "        fill: #1967D2;\n",
              "        height: 32px;\n",
              "        padding: 0 0 0 0;\n",
              "        width: 32px;\n",
              "      }\n",
              "\n",
              "      .colab-df-generate:hover {\n",
              "        background-color: #E2EBFA;\n",
              "        box-shadow: 0px 1px 2px rgba(60, 64, 67, 0.3), 0px 1px 3px 1px rgba(60, 64, 67, 0.15);\n",
              "        fill: #174EA6;\n",
              "      }\n",
              "\n",
              "      [theme=dark] .colab-df-generate {\n",
              "        background-color: #3B4455;\n",
              "        fill: #D2E3FC;\n",
              "      }\n",
              "\n",
              "      [theme=dark] .colab-df-generate:hover {\n",
              "        background-color: #434B5C;\n",
              "        box-shadow: 0px 1px 3px 1px rgba(0, 0, 0, 0.15);\n",
              "        filter: drop-shadow(0px 1px 2px rgba(0, 0, 0, 0.3));\n",
              "        fill: #FFFFFF;\n",
              "      }\n",
              "    </style>\n",
              "    <button class=\"colab-df-generate\" onclick=\"generateWithVariable('df')\"\n",
              "            title=\"Generate code using this dataframe.\"\n",
              "            style=\"display:none;\">\n",
              "\n",
              "  <svg xmlns=\"http://www.w3.org/2000/svg\" height=\"24px\"viewBox=\"0 0 24 24\"\n",
              "       width=\"24px\">\n",
              "    <path d=\"M7,19H8.4L18.45,9,17,7.55,7,17.6ZM5,21V16.75L18.45,3.32a2,2,0,0,1,2.83,0l1.4,1.43a1.91,1.91,0,0,1,.58,1.4,1.91,1.91,0,0,1-.58,1.4L9.25,21ZM18.45,9,17,7.55Zm-12,3A5.31,5.31,0,0,0,4.9,8.1,5.31,5.31,0,0,0,1,6.5,5.31,5.31,0,0,0,4.9,4.9,5.31,5.31,0,0,0,6.5,1,5.31,5.31,0,0,0,8.1,4.9,5.31,5.31,0,0,0,12,6.5,5.46,5.46,0,0,0,6.5,12Z\"/>\n",
              "  </svg>\n",
              "    </button>\n",
              "    <script>\n",
              "      (() => {\n",
              "      const buttonEl =\n",
              "        document.querySelector('#id_92395a46-ac40-4624-84f1-a0bcafc425f4 button.colab-df-generate');\n",
              "      buttonEl.style.display =\n",
              "        google.colab.kernel.accessAllowed ? 'block' : 'none';\n",
              "\n",
              "      buttonEl.onclick = () => {\n",
              "        google.colab.notebook.generateWithVariable('df');\n",
              "      }\n",
              "      })();\n",
              "    </script>\n",
              "  </div>\n",
              "\n",
              "    </div>\n",
              "  </div>\n"
            ],
            "application/vnd.google.colaboratory.intrinsic+json": {
              "type": "dataframe",
              "variable_name": "df",
              "summary": "{\n  \"name\": \"df\",\n  \"rows\": 4,\n  \"fields\": [\n    {\n      \"column\": \"0\",\n      \"properties\": {\n        \"dtype\": \"number\",\n        \"std\": 695.037466686875,\n        \"min\": 0.9227467811158798,\n        \"max\": 1391.0,\n        \"num_unique_values\": 4,\n        \"samples\": [\n          0.9273903666427031,\n          1391.0,\n          0.9227467811158798\n        ],\n        \"semantic_type\": \"\",\n        \"description\": \"\"\n      }\n    },\n    {\n      \"column\": \"1\",\n      \"properties\": {\n        \"dtype\": \"number\",\n        \"std\": 805.0184393539026,\n        \"min\": 0.9553072625698324,\n        \"max\": 1611.0,\n        \"num_unique_values\": 4,\n        \"samples\": [\n          0.9553072625698324,\n          1611.0,\n          0.9709779179810726\n        ],\n        \"semantic_type\": \"\",\n        \"description\": \"\"\n      }\n    },\n    {\n      \"column\": \"2\",\n      \"properties\": {\n        \"dtype\": \"number\",\n        \"std\": 702.5860442129406,\n        \"min\": 0.7900194426441997,\n        \"max\": 1406.0,\n        \"num_unique_values\": 4,\n        \"samples\": [\n          0.8669985775248933,\n          1406.0,\n          0.7900194426441997\n        ],\n        \"semantic_type\": \"\",\n        \"description\": \"\"\n      }\n    },\n    {\n      \"column\": \"3\",\n      \"properties\": {\n        \"dtype\": \"number\",\n        \"std\": 723.0810432844839,\n        \"min\": 0.78852798894264,\n        \"max\": 1447.0,\n        \"num_unique_values\": 4,\n        \"samples\": [\n          0.78852798894264,\n          1447.0,\n          0.8893219017926735\n        ],\n        \"semantic_type\": \"\",\n        \"description\": \"\"\n      }\n    },\n    {\n      \"column\": \"4\",\n      \"properties\": {\n        \"dtype\": \"number\",\n        \"std\": 679.0519166709756,\n        \"min\": 0.8851399856424982,\n        \"max\": 1359.0,\n        \"num_unique_values\": 4,\n        \"samples\": [\n          0.9072847682119205,\n          1359.0,\n          0.8851399856424982\n        ],\n        \"semantic_type\": \"\",\n        \"description\": \"\"\n      }\n    },\n    {\n      \"column\": \"5\",\n      \"properties\": {\n        \"dtype\": \"number\",\n        \"std\": 637.135437046192,\n        \"min\": 0.7288401253918495,\n        \"max\": 1275.0,\n        \"num_unique_values\": 4,\n        \"samples\": [\n          0.7294117647058823,\n          1275.0,\n          0.7288401253918495\n        ],\n        \"semantic_type\": \"\",\n        \"description\": \"\"\n      }\n    },\n    {\n      \"column\": \"6\",\n      \"properties\": {\n        \"dtype\": \"number\",\n        \"std\": 692.0441497888545,\n        \"min\": 0.8972027972027972,\n        \"max\": 1385.0,\n        \"num_unique_values\": 4,\n        \"samples\": [\n          0.9263537906137184,\n          1385.0,\n          0.8972027972027972\n        ],\n        \"semantic_type\": \"\",\n        \"description\": \"\"\n      }\n    },\n    {\n      \"column\": \"7\",\n      \"properties\": {\n        \"dtype\": \"number\",\n        \"std\": 719.0382209867963,\n        \"min\": 0.9235580264072273,\n        \"max\": 1439.0,\n        \"num_unique_values\": 2,\n        \"samples\": [\n          1439.0,\n          0.9235580264072273\n        ],\n        \"semantic_type\": \"\",\n        \"description\": \"\"\n      }\n    },\n    {\n      \"column\": \"8\",\n      \"properties\": {\n        \"dtype\": \"number\",\n        \"std\": 660.5833733487701,\n        \"min\": 0.8214826021180031,\n        \"max\": 1322.0,\n        \"num_unique_values\": 4,\n        \"samples\": [\n          0.8214826021180031,\n          1322.0\n        ],\n        \"semantic_type\": \"\",\n        \"description\": \"\"\n      }\n    },\n    {\n      \"column\": \"9\",\n      \"properties\": {\n        \"dtype\": \"number\",\n        \"std\": 682.0740940600577,\n        \"min\": 0.8508771929824561,\n        \"max\": 1365.0,\n        \"num_unique_values\": 4,\n        \"samples\": [\n          0.8527472527472527,\n          1365.0\n        ],\n        \"semantic_type\": \"\",\n        \"description\": \"\"\n      }\n    },\n    {\n      \"column\": \"accuracy\",\n      \"properties\": {\n        \"dtype\": \"number\",\n        \"std\": 0.0,\n        \"min\": 0.8724285714285714,\n        \"max\": 0.8724285714285714,\n        \"num_unique_values\": 1,\n        \"samples\": [\n          0.8724285714285714\n        ],\n        \"semantic_type\": \"\",\n        \"description\": \"\"\n      }\n    },\n    {\n      \"column\": \"macro avg\",\n      \"properties\": {\n        \"dtype\": \"number\",\n        \"std\": 6999.565018330272,\n        \"min\": 0.869601742568056,\n        \"max\": 14000.0,\n        \"num_unique_values\": 4,\n        \"samples\": [\n          0.8699062400484074\n        ],\n        \"semantic_type\": \"\",\n        \"description\": \"\"\n      }\n    },\n    {\n      \"column\": \"weighted avg\",\n      \"properties\": {\n        \"dtype\": \"number\",\n        \"std\": 6999.563629222573,\n        \"min\": 0.8723730926299517,\n        \"max\": 14000.0,\n        \"num_unique_values\": 4,\n        \"samples\": [\n          0.8724285714285714\n        ],\n        \"semantic_type\": \"\",\n        \"description\": \"\"\n      }\n    }\n  ]\n}"
            }
          },
          "metadata": {},
          "execution_count": 141
        }
      ]
    }
  ]
}